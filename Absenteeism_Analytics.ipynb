{
  "cells": [
    {
      "cell_type": "markdown",
      "metadata": {
        "id": "xeicIuoSLe9V"
      },
      "source": [
        "# **Importing the data:**"
      ]
    },
    {
      "cell_type": "code",
      "execution_count": null,
      "metadata": {
        "id": "4ZFnmnLc7v7t"
      },
      "outputs": [],
      "source": [
        "import pandas as pd\n",
        "import numpy as np\n",
        "import matplotlib.pyplot as plt"
      ]
    },
    {
      "cell_type": "code",
      "execution_count": null,
      "metadata": {
        "colab": {
          "background_save": true
        },
        "id": "4CdszF4Ambe6",
        "outputId": "aac60cc8-cd15-49b8-9cc8-8cdd9932c37b"
      },
      "outputs": [
        {
          "name": "stdout",
          "output_type": "stream",
          "text": [
            "Mounted at /content/gdrive\n"
          ]
        }
      ],
      "source": [
        "from google.colab import drive\n",
        "drive.mount('/content/gdrive')"
      ]
    },
    {
      "cell_type": "markdown",
      "metadata": {
        "id": "uDIHhuCCUkhS"
      },
      "source": [
        "**Import the libraries**"
      ]
    },
    {
      "cell_type": "code",
      "execution_count": null,
      "metadata": {
        "colab": {
          "background_save": true
        },
        "id": "zJPosmKOUtFl"
      },
      "outputs": [],
      "source": [
        "import numpy as np\n",
        "import pandas as pd\n",
        "import matplotlib.pyplot as plt\n",
        "import seaborn as sns\n",
        "\n",
        "from sklearn.model_selection import train_test_split\n",
        "import pathlib\n"
      ]
    },
    {
      "cell_type": "markdown",
      "metadata": {
        "id": "vjWRodQPUtez"
      },
      "source": [
        "**Read the Absenteesim CSV file using read_csv**"
      ]
    },
    {
      "cell_type": "code",
      "execution_count": null,
      "metadata": {
        "colab": {
          "background_save": true
        },
        "id": "WfGC2JmibdVn"
      },
      "outputs": [],
      "source": [
        "df = pd.read_csv('/content/gdrive/MyDrive/Absenteeism_Inductions.csv')\n"
      ]
    },
    {
      "cell_type": "markdown",
      "metadata": {
        "id": "n1lfMxYBgHbL"
      },
      "source": [
        "**print all the column names and datatype of each column in the dataframe** "
      ]
    },
    {
      "cell_type": "code",
      "execution_count": null,
      "metadata": {
        "colab": {
          "background_save": true
        },
        "id": "A_x7KPbkbR5Y",
        "outputId": "87ab0572-dc06-4cb0-da02-df6283104701"
      },
      "outputs": [
        {
          "data": {
            "text/plain": [
              "ID                                      int64\n",
              "Month of absence                        int64\n",
              "Day of the week                         int64\n",
              "Seasons                                object\n",
              "Transportation expense                  int64\n",
              "Distance from Residence to College    float64\n",
              "Weight                                  int64\n",
              "Height                                  int64\n",
              "Body mass index                         int64\n",
              "Absenteeism time in hours               int64\n",
              "dtype: object"
            ]
          },
          "execution_count": 8,
          "metadata": {},
          "output_type": "execute_result"
        }
      ],
      "source": [
        "data_type = df.dtypes\n",
        "data_type"
      ]
    },
    {
      "cell_type": "markdown",
      "metadata": {
        "id": "c4hZCu1OgVuX"
      },
      "source": [
        "**Print the average height and maximum weight of the students**"
      ]
    },
    {
      "cell_type": "code",
      "execution_count": null,
      "metadata": {
        "colab": {
          "background_save": true
        },
        "id": "pYhZNjc2cpx3",
        "outputId": "2af952e5-9dac-4bcf-e224-b442cdfc0ea1"
      },
      "outputs": [
        {
          "name": "stdout",
          "output_type": "stream",
          "text": [
            "avg height =  172.11486486486487\n",
            "max_height =  108\n"
          ]
        }
      ],
      "source": [
        " avg_height = df.Height.mean()\n",
        " print(\"avg height = \", avg_height)\n",
        " max_weight = df.Weight.max()\n",
        " print(\"max_height = \", max_weight)"
      ]
    },
    {
      "cell_type": "markdown",
      "metadata": {
        "id": "Xtc03kE9gbL0"
      },
      "source": [
        "**Print the frequency of Absentees in each month** "
      ]
    },
    {
      "cell_type": "code",
      "execution_count": null,
      "metadata": {
        "colab": {
          "background_save": true
        },
        "id": "OlM_7CqycBy8",
        "outputId": "841b07b1-d203-4bf2-9cb0-0e6d3fd2e8ed"
      },
      "outputs": [
        {
          "data": {
            "text/plain": [
              "3     87\n",
              "2     72\n",
              "10    71\n",
              "7     67\n",
              "5     64\n",
              "11    63\n",
              "8     54\n",
              "6     54\n",
              "9     53\n",
              "4     53\n",
              "1     50\n",
              "12    49\n",
              "0      3\n",
              "Name: Month of absence, dtype: int64"
            ]
          },
          "execution_count": 10,
          "metadata": {},
          "output_type": "execute_result"
        }
      ],
      "source": [
        " freq_abs = df['Month of absence'].value_counts()\n",
        " freq_abs"
      ]
    },
    {
      "cell_type": "markdown",
      "metadata": {
        "id": "sbZhgBG4gmA3"
      },
      "source": [
        "**Print the days in which no of Absentees exceed 150**"
      ]
    },
    {
      "cell_type": "code",
      "execution_count": null,
      "metadata": {
        "colab": {
          "background_save": true
        },
        "id": "Phn9hMrtb7aK",
        "outputId": "fb2f13c3-1898-4727-a5e4-0ba4c0b99887"
      },
      "outputs": [
        {
          "data": {
            "text/html": [
              "\n",
              "  <div id=\"df-6f1d1042-08c5-4f72-b9d7-ed249b672a22\">\n",
              "    <div class=\"colab-df-container\">\n",
              "      <div>\n",
              "<style scoped>\n",
              "    .dataframe tbody tr th:only-of-type {\n",
              "        vertical-align: middle;\n",
              "    }\n",
              "\n",
              "    .dataframe tbody tr th {\n",
              "        vertical-align: top;\n",
              "    }\n",
              "\n",
              "    .dataframe thead th {\n",
              "        text-align: right;\n",
              "    }\n",
              "</style>\n",
              "<table border=\"1\" class=\"dataframe\">\n",
              "  <thead>\n",
              "    <tr style=\"text-align: right;\">\n",
              "      <th></th>\n",
              "      <th>day</th>\n",
              "      <th>count</th>\n",
              "    </tr>\n",
              "  </thead>\n",
              "  <tbody>\n",
              "    <tr>\n",
              "      <th>0</th>\n",
              "      <td>2</td>\n",
              "      <td>161</td>\n",
              "    </tr>\n",
              "    <tr>\n",
              "      <th>1</th>\n",
              "      <td>4</td>\n",
              "      <td>156</td>\n",
              "    </tr>\n",
              "    <tr>\n",
              "      <th>2</th>\n",
              "      <td>3</td>\n",
              "      <td>154</td>\n",
              "    </tr>\n",
              "  </tbody>\n",
              "</table>\n",
              "</div>\n",
              "      <button class=\"colab-df-convert\" onclick=\"convertToInteractive('df-6f1d1042-08c5-4f72-b9d7-ed249b672a22')\"\n",
              "              title=\"Convert this dataframe to an interactive table.\"\n",
              "              style=\"display:none;\">\n",
              "        \n",
              "  <svg xmlns=\"http://www.w3.org/2000/svg\" height=\"24px\"viewBox=\"0 0 24 24\"\n",
              "       width=\"24px\">\n",
              "    <path d=\"M0 0h24v24H0V0z\" fill=\"none\"/>\n",
              "    <path d=\"M18.56 5.44l.94 2.06.94-2.06 2.06-.94-2.06-.94-.94-2.06-.94 2.06-2.06.94zm-11 1L8.5 8.5l.94-2.06 2.06-.94-2.06-.94L8.5 2.5l-.94 2.06-2.06.94zm10 10l.94 2.06.94-2.06 2.06-.94-2.06-.94-.94-2.06-.94 2.06-2.06.94z\"/><path d=\"M17.41 7.96l-1.37-1.37c-.4-.4-.92-.59-1.43-.59-.52 0-1.04.2-1.43.59L10.3 9.45l-7.72 7.72c-.78.78-.78 2.05 0 2.83L4 21.41c.39.39.9.59 1.41.59.51 0 1.02-.2 1.41-.59l7.78-7.78 2.81-2.81c.8-.78.8-2.07 0-2.86zM5.41 20L4 18.59l7.72-7.72 1.47 1.35L5.41 20z\"/>\n",
              "  </svg>\n",
              "      </button>\n",
              "      \n",
              "  <style>\n",
              "    .colab-df-container {\n",
              "      display:flex;\n",
              "      flex-wrap:wrap;\n",
              "      gap: 12px;\n",
              "    }\n",
              "\n",
              "    .colab-df-convert {\n",
              "      background-color: #E8F0FE;\n",
              "      border: none;\n",
              "      border-radius: 50%;\n",
              "      cursor: pointer;\n",
              "      display: none;\n",
              "      fill: #1967D2;\n",
              "      height: 32px;\n",
              "      padding: 0 0 0 0;\n",
              "      width: 32px;\n",
              "    }\n",
              "\n",
              "    .colab-df-convert:hover {\n",
              "      background-color: #E2EBFA;\n",
              "      box-shadow: 0px 1px 2px rgba(60, 64, 67, 0.3), 0px 1px 3px 1px rgba(60, 64, 67, 0.15);\n",
              "      fill: #174EA6;\n",
              "    }\n",
              "\n",
              "    [theme=dark] .colab-df-convert {\n",
              "      background-color: #3B4455;\n",
              "      fill: #D2E3FC;\n",
              "    }\n",
              "\n",
              "    [theme=dark] .colab-df-convert:hover {\n",
              "      background-color: #434B5C;\n",
              "      box-shadow: 0px 1px 3px 1px rgba(0, 0, 0, 0.15);\n",
              "      filter: drop-shadow(0px 1px 2px rgba(0, 0, 0, 0.3));\n",
              "      fill: #FFFFFF;\n",
              "    }\n",
              "  </style>\n",
              "\n",
              "      <script>\n",
              "        const buttonEl =\n",
              "          document.querySelector('#df-6f1d1042-08c5-4f72-b9d7-ed249b672a22 button.colab-df-convert');\n",
              "        buttonEl.style.display =\n",
              "          google.colab.kernel.accessAllowed ? 'block' : 'none';\n",
              "\n",
              "        async function convertToInteractive(key) {\n",
              "          const element = document.querySelector('#df-6f1d1042-08c5-4f72-b9d7-ed249b672a22');\n",
              "          const dataTable =\n",
              "            await google.colab.kernel.invokeFunction('convertToInteractive',\n",
              "                                                     [key], {});\n",
              "          if (!dataTable) return;\n",
              "\n",
              "          const docLinkHtml = 'Like what you see? Visit the ' +\n",
              "            '<a target=\"_blank\" href=https://colab.research.google.com/notebooks/data_table.ipynb>data table notebook</a>'\n",
              "            + ' to learn more about interactive tables.';\n",
              "          element.innerHTML = '';\n",
              "          dataTable['output_type'] = 'display_data';\n",
              "          await google.colab.output.renderOutput(dataTable, element);\n",
              "          const docLink = document.createElement('div');\n",
              "          docLink.innerHTML = docLinkHtml;\n",
              "          element.appendChild(docLink);\n",
              "        }\n",
              "      </script>\n",
              "    </div>\n",
              "  </div>\n",
              "  "
            ],
            "text/plain": [
              "   day  count\n",
              "0    2    161\n",
              "1    4    156\n",
              "2    3    154"
            ]
          },
          "execution_count": 11,
          "metadata": {},
          "output_type": "execute_result"
        }
      ],
      "source": [
        "abd_count_day = df['Day of the week'].value_counts().to_frame()\n",
        "abd_count_day = abd_count_day.reset_index()\n",
        "abd_count_day.columns = ['day', 'count']\n",
        "abd_count_day\n",
        "abs_150 = abd_count_day.loc[abd_count_day['count'] > 150]\n",
        "abs_150"
      ]
    },
    {
      "cell_type": "markdown",
      "metadata": {
        "id": "OjVzFGxJkgS5"
      },
      "source": [
        "**Print absentees with more than 10 hrs of absenteeism in december**"
      ]
    },
    {
      "cell_type": "code",
      "execution_count": null,
      "metadata": {
        "colab": {
          "background_save": true
        },
        "id": "PAl5zddokkeB",
        "outputId": "5eb586ec-42b5-404a-e589-39b5c16dc519"
      },
      "outputs": [
        {
          "name": "stdout",
          "output_type": "stream",
          "text": [
            "34\n",
            "34\n",
            "3\n",
            "22\n",
            "14\n"
          ]
        }
      ],
      "source": [
        "for ind in df.index:\n",
        "  if(df['Month of absence'][ind])==12 and df['Absenteeism time in hours'][ind]>10:\n",
        "    print(df['ID'][ind])"
      ]
    },
    {
      "cell_type": "markdown",
      "metadata": {
        "id": "quUv7SrbHTd7"
      },
      "source": [
        "**Print the number of missing values in each column**"
      ]
    },
    {
      "cell_type": "code",
      "execution_count": null,
      "metadata": {
        "colab": {
          "background_save": true
        },
        "id": "sKEpxKQsHXTT",
        "outputId": "219c6576-a6d4-41e3-b4df-ae9b11d32939"
      },
      "outputs": [
        {
          "data": {
            "text/plain": [
              "ID                                     0\n",
              "Month of absence                       0\n",
              "Day of the week                        0\n",
              "Seasons                                0\n",
              "Transportation expense                 0\n",
              "Distance from Residence to College    54\n",
              "Weight                                 0\n",
              "Height                                 0\n",
              "Body mass index                        0\n",
              "Absenteeism time in hours              0\n",
              "dtype: int64"
            ]
          },
          "execution_count": 13,
          "metadata": {},
          "output_type": "execute_result"
        }
      ],
      "source": [
        "df.isna().sum()"
      ]
    },
    {
      "cell_type": "markdown",
      "metadata": {
        "id": "XP2jdMrIgpj-"
      },
      "source": [
        "**Fill the missing values using the SimpleImputer() method**"
      ]
    },
    {
      "cell_type": "code",
      "execution_count": null,
      "metadata": {
        "colab": {
          "background_save": true
        },
        "id": "DzTYELtOcZy3"
      },
      "outputs": [],
      "source": [
        "from sklearn.impute import SimpleImputer\n",
        "imputer = SimpleImputer(strategy='mean', missing_values=np.nan)\n",
        "imputer = imputer.fit(df[['Distance from Residence to College']])\n",
        "df['Distance from Residence to College'] = imputer.transform(df[['Distance from Residence to College']])\n",
        "df\n",
        "\n",
        "imputer = SimpleImputer(strategy='mean', missing_values=np.nan)\n",
        "imputer = imputer.fit(df[['Distance from Residence to College']])\n",
        "\n",
        "df['Distance from Residence to College'] = imputer.transform(df[['Distance from Residence to College']])\n",
        "\n"
      ]
    },
    {
      "cell_type": "markdown",
      "metadata": {
        "id": "8Bj0Pvx4g7ru"
      },
      "source": [
        "**Convert Seasonal column to Categorical data**\n",
        "**Assign 1-Spring**\n",
        "       **2-Summer**\n",
        "       **3-Autumn**\n",
        "       **4-Winter**"
      ]
    },
    {
      "cell_type": "code",
      "execution_count": 1,
      "metadata": {
        "colab": {
          "base_uri": "https://localhost:8080/",
          "height": 235
        },
        "id": "lXVKRzCOdw2e",
        "outputId": "10c2f6b3-ab9e-4aa8-e3f3-c8830a4bb33e"
      },
      "outputs": [
        {
          "output_type": "error",
          "ename": "NameError",
          "evalue": "ignored",
          "traceback": [
            "\u001b[0;31m---------------------------------------------------------------------------\u001b[0m",
            "\u001b[0;31mNameError\u001b[0m                                 Traceback (most recent call last)",
            "\u001b[0;32m<ipython-input-1-05beb867ae08>\u001b[0m in \u001b[0;36m<module>\u001b[0;34m\u001b[0m\n\u001b[1;32m      6\u001b[0m                'Winter': '4'}\n\u001b[1;32m      7\u001b[0m \u001b[0;34m\u001b[0m\u001b[0m\n\u001b[0;32m----> 8\u001b[0;31m df['Seasons'].replace(['Spring', 'Summer', 'Autumn', 'Winter'],\n\u001b[0m\u001b[1;32m      9\u001b[0m                         [1, 2, 3, 4], inplace=True)\n\u001b[1;32m     10\u001b[0m \u001b[0;34m\u001b[0m\u001b[0m\n",
            "\u001b[0;31mNameError\u001b[0m: name 'df' is not defined"
          ]
        }
      ],
      "source": [
        "from collections import Counter\n",
        "\n",
        "season_dict = {'Spring': '1',\n",
        "               'Summer': '2',\n",
        "               'Autumn': '3', \n",
        "               'Winter': '4'}\n",
        "\n",
        "df['Seasons'].replace(['Spring', 'Summer', 'Autumn', 'Winter'],\n",
        "                        [1, 2, 3, 4], inplace=True)\n",
        "\n",
        "\n",
        "df['Seasons']"
      ]
    },
    {
      "cell_type": "code",
      "execution_count": null,
      "metadata": {
        "colab": {
          "background_save": true
        },
        "id": "Hf-1rHXFsbzf",
        "outputId": "cca8071d-90c6-421a-9cd2-2935f2d4832e"
      },
      "outputs": [
        {
          "data": {
            "text/plain": [
              "<matplotlib.axes._subplots.AxesSubplot at 0x7fd77df2f8d0>"
            ]
          },
          "execution_count": 16,
          "metadata": {},
          "output_type": "execute_result"
        },
        {
          "data": {
            "image/png": "[encoded data removed]",
            "text/plain": [
              "<Figure size 432x288 with 1 Axes>"
            ]
          },
          "metadata": {},
          "output_type": "display_data"
        }
      ],
      "source": [
        "sns.barplot(data = df, x= 'Absenteeism time in hours', y= 'Day of the week')"
      ]
    },
    {
      "cell_type": "code",
      "execution_count": null,
      "metadata": {
        "colab": {
          "background_save": true
        },
        "id": "Q_ftTfGNsk3v",
        "outputId": "dbc141cb-0ec8-4b5c-d4c3-c38a89405bd0"
      },
      "outputs": [
        {
          "data": {
            "text/plain": [
              "<matplotlib.axes._subplots.AxesSubplot at 0x7fd77d95a750>"
            ]
          },
          "execution_count": 17,
          "metadata": {},
          "output_type": "execute_result"
        },
        {
          "data": {
            "image/png": "[encoded data removed]",
            "text/plain": [
              "<Figure size 432x288 with 1 Axes>"
            ]
          },
          "metadata": {},
          "output_type": "display_data"
        }
      ],
      "source": [
        "sns.barplot(data = df, x= 'Absenteeism time in hours', y= 'Day of the week', ci=None)"
      ]
    },
    {
      "cell_type": "code",
      "execution_count": null,
      "metadata": {
        "colab": {
          "background_save": true
        },
        "id": "3rju7wb-souL",
        "outputId": "257b9f40-9365-4d0b-b944-600f36e83fac"
      },
      "outputs": [
        {
          "data": {
            "image/png": "[encoded data removed]",
            "text/plain": [
              "<Figure size 432x288 with 2 Axes>"
            ]
          },
          "metadata": {},
          "output_type": "display_data"
        }
      ],
      "source": [
        "dfna = df.drop(['Seasons'], axis=1)\n",
        "hm = sns.heatmap(data = dfna.corr(), vmin = 0, vmax = 1)"
      ]
    },
    {
      "cell_type": "code",
      "execution_count": null,
      "metadata": {
        "colab": {
          "background_save": true
        },
        "id": "MlE5yYb-swUD",
        "outputId": "c2321a1c-a4ee-4e43-c3d6-4e2b5e052807"
      },
      "outputs": [
        {
          "data": {
            "image/png": "[encoded data removed]",
            "text/plain": [
              "<Figure size 1080x576 with 2 Axes>"
            ]
          },
          "metadata": {},
          "output_type": "display_data"
        }
      ],
      "source": [
        "sns.set(rc = {'figure.figsize':(15,8)})\n",
        "hn = sns.heatmap(data = dfna.corr(), vmin = -1, vmax = 1, annot=True)"
      ]
    },
    {
      "cell_type": "code",
      "execution_count": null,
      "metadata": {
        "colab": {
          "background_save": true
        },
        "id": "cYO0YKuVtA4W"
      },
      "outputs": [],
      "source": [
        "dfnb = dfna.drop(['Weight'], axis=1)"
      ]
    },
    {
      "cell_type": "code",
      "execution_count": null,
      "metadata": {
        "colab": {
          "background_save": true
        },
        "id": "UHwH8luvtHrQ",
        "outputId": "e1d3df97-094d-4e69-b233-46e84c119681"
      },
      "outputs": [
        {
          "name": "stdout",
          "output_type": "stream",
          "text": [
            "[[ 11.   7.   3. ...  36. 172.  30.]\n",
            " [ 36.   7.   3. ...  13. 178.  31.]\n",
            " [  3.   7.   4. ...  51. 170.  31.]\n",
            " ...\n",
            " [  4.   0.   3. ...  14. 170.  34.]\n",
            " [  8.   0.   4. ...  35. 170.  35.]\n",
            " [ 35.   0.   6. ...  45. 175.  25.]]\n"
          ]
        }
      ],
      "source": [
        "X = dfnb.iloc[:, :-1].values\n",
        "print(X)"
      ]
    },
    {
      "cell_type": "code",
      "execution_count": null,
      "metadata": {
        "colab": {
          "background_save": true
        },
        "id": "CO9H_IO3tI2L",
        "outputId": "d3291d73-6d88-4854-8c44-cbe9bfe04579"
      },
      "outputs": [
        {
          "name": "stdout",
          "output_type": "stream",
          "text": [
            "[  4   0   2   4   2   2   8   4  40   8   8   8   8   1   4   8   2   8\n",
            "   8   2   8   1  40   4   8   7   1   4   8   2   8   8   4   8   2   1\n",
            "   8   4   8   4   2   4   4   8   2   3   3   4   8  32   0   0   2   2\n",
            "   0   0   3   3   0   1   3   4   3   3   0   1   3   3   3   2   2   5\n",
            "   8   3  16   8   2   8   1   3   1   1   8   8   5  32   8  40   1   8\n",
            "   3   8   3   4   1   3  24   3   1  64   2   8   2   8  56   8   3   3\n",
            "   2   8   2   8   2   1   1   1   8   2   2   2   1   2   2   2   2   2\n",
            "   2   2   2   8   8   2   2   2   0   1   3   1   8   8   2   8   2   8\n",
            "   8   8   2   2   1   8   3   8   1   1   8   2   8   3   8   8   8   8\n",
            "   3  40  40  16  16   8   8   8   4   1   8  24   2   8   1   8  16   3\n",
            "  16   2   3   1   1   1   1  24   1   2   4  24   1   3   8   1   8  56\n",
            "   8  24   8  16   3   0   8   2   1   8   8   4   2   1  24   0   0   0\n",
            "   0   1  24   8   8   8  24   4   8   8   4   8   8  16   1  80   8   2\n",
            "   2   2  16   8   8   4   8   8   2   8   8   3   8   8   8  32   8   0\n",
            "   8   3   1   8   1   2   4   4   1   8   1   3   2   1   1   8   8   8\n",
            "   8   3  24   0  16   3   0   0   8  32   1   4   4   8   1   0   3  40\n",
            "   8   8   4   8   8   0   0   8   3   8   1  64   0  16   3   0   2   2\n",
            "   1   4  16   1   8   0   0   0   5   5   1   8   2   8   3   1   8 120\n",
            "   8   0   1   3   2   3   8   4   8   1   8   8   0   0   1   3   2   1\n",
            "   3   1   4   8   1   1   1   8   2   1   8   4   8   2   3   8   5  32\n",
            "   2   1   4   8   8   8   4   1   1   2   3   1   3   3   3   2   3   8\n",
            "   8   3   8   3   2   2  16   3   3  24   3   3   8  16   2   4   2   8\n",
            "   8   8  16   8   0   8   2   3   8   0   0   0   8   8   8   2   4   3\n",
            "   4   4   4   8   8   1 120   8   4   4   2  16   2   8   3   4   1   3\n",
            "   2   3   8   3   8   2   1   8   3   3   3   2   4   4   0  40  24   3\n",
            "   4   8   2   2   2   8   2   2   1   8   2   4   8   8   8   8   4   8\n",
            "   8   1   2 112   1   1   8   8   8   2   1   2   4   1   4   4   8   8\n",
            "   4   4   8  16   4   1   5   2   3   1   1   3   2   2   8   1   4   1\n",
            "   2   8   8   1   3   8   3   2   2   2   1   2   8   3   4   8   3   1\n",
            "   1   8   1   8   3   8   8   8   0   3   1   3  24   1   8   8   8   4\n",
            "   8   2   2   3   1   8   8   2   0   0   4   0   2   8   2  32   1   3\n",
            "   1   3   3   4   2   8   8  16   2   3   2  80  24  16   2   2   3   2\n",
            "   8   3   2   8   2   3   8   3   2   8   3   8   2   3   2   2   2   2\n",
            "   2   2   8   3   3   3   2   2   3   3   2   2   8   2   5   3   2   2\n",
            "   2   2   2   2   2   2   2   2   3   3 112   2   2   3   2   3   3   8\n",
            "   8   2   3   2   4   2   3   8   2   8   2   2   3   3   2   3   3   8\n",
            "  24   3   3   2 104   8   8   8   8   8   8   2  24   2   3   2   2   8\n",
            "   2   8   3   2   4   8   2   2   8   3   2   3   8   1   2   8  64   8\n",
            "   2   2   3   1   0   2   0   1  48   8   8   8   3   8   2   2   2   8\n",
            "   2   8   8   1   8   3   8   8   8  24   8   2   0   0   3   2   2   3\n",
            "   3   8   2   3   3   4   2   8   4 120  16   2   8   8  80   8   4   0\n",
            "   0   0]\n"
          ]
        }
      ],
      "source": [
        "y = dfnb.iloc[:, -1].values\n",
        "print(y) "
      ]
    },
    {
      "cell_type": "code",
      "execution_count": null,
      "metadata": {
        "colab": {
          "background_save": true
        },
        "id": "WTVwGQZqtWnU"
      },
      "outputs": [],
      "source": [
        "import pandas as pd\n",
        "from sklearn.linear_model import LinearRegression\n",
        "from sklearn.model_selection import train_test_split\n",
        " \n",
        "X = dfna.iloc[:, :-1]\n",
        "y = dfna.iloc[:, -1]\n",
        " \n",
        "X_train, X_test, y_train, y_test = train_test_split(\n",
        "    X, y, test_size=0.25, random_state=0)"
      ]
    },
    {
      "cell_type": "code",
      "execution_count": null,
      "metadata": {
        "colab": {
          "background_save": true
        },
        "id": "yEVTMhI_td5p",
        "outputId": "2fa5040a-e5f1-404e-b214-984c3304b4c7"
      },
      "outputs": [
        {
          "data": {
            "text/plain": [
              "LinearRegression()"
            ]
          },
          "execution_count": 24,
          "metadata": {},
          "output_type": "execute_result"
        }
      ],
      "source": [
        "from sklearn.linear_model import LinearRegression\n",
        "clf = LinearRegression()\n",
        "\n",
        "clf.fit(X_train,y_train)\n",
        "\n",
        "\n"
      ]
    },
    {
      "cell_type": "code",
      "execution_count": null,
      "metadata": {
        "colab": {
          "background_save": true
        },
        "id": "rjOn-6q_teWT",
        "outputId": "138d1e26-8f31-437a-c8d2-655be9240ce4"
      },
      "outputs": [
        {
          "data": {
            "text/plain": [
              "array([-1.4382728 ,  6.97825131,  5.1025104 ,  2.74770227,  4.91489334,\n",
              "        6.01483289,  5.90569029,  6.80206785,  7.10179453, 10.19856827,\n",
              "        6.80200771,  9.21499911,  8.0562645 , 11.12166994,  4.55172742,\n",
              "        2.52732308,  4.41041788,  4.142041  ,  4.289947  ,  3.15732751,\n",
              "        5.22005419,  4.23248655,  2.97732624, -1.25993279,  6.741792  ,\n",
              "       11.75167437,  6.69989884, 14.49768829,  8.5297324 ,  5.87541641,\n",
              "       18.02691109,  5.46938876,  7.67528198,  8.5297324 ,  7.51626071,\n",
              "        8.02872134, 12.35449048,  6.09939318,  9.21104573,  5.99353781,\n",
              "        4.21581312,  7.87626324,  7.1887945 ,  8.46974559,  3.2794024 ,\n",
              "        6.11561271,  6.65179136,  6.24201774,  4.19308058, 18.38691362,\n",
              "        9.67839124,  7.29123763,  8.44301803,  6.83561777,  7.75616173,\n",
              "       10.35446541,  8.21559843,  7.60626134,  8.82526768,  1.9962982 ,\n",
              "        8.66560159,  8.79300873, 11.05180874,  2.80630389,  5.31891607,\n",
              "        5.6356884 ,  5.09173122,  4.77005103, 16.11380246,  2.53630199,\n",
              "       -0.719929  ,  1.73960535,  6.69989884,  8.07812237,  3.33732877,\n",
              "        5.04005293, 16.83380752,  7.06662693,  3.33732877,  8.4330062 ,\n",
              "        7.53187053,  8.22504101,  2.82684153,  8.55974622,  9.73225057,\n",
              "       12.11148115,  7.0279352 ,  6.28483479,  3.15732751,  2.43732245,\n",
              "        8.37974496,  7.37179642,  5.18173185, 11.57147735,  9.58839061,\n",
              "        5.93305373,  1.55960408,  6.02561208,  8.08517205,  6.41315777,\n",
              "        3.14255412,  7.06662693,  2.16128536,  4.65250724,  8.8013593 ,\n",
              "        6.59352841,  5.37938812,  5.40005546,  6.58193428,  8.29872324,\n",
              "        5.60352146, 12.10231755,  4.35258419, 10.49414993,  4.60565959,\n",
              "        6.64663759, 10.66745173,  6.97662629,  9.74886792,  2.88732561,\n",
              "        4.64786218, 11.75825746,  3.06732688, 10.96180811, -0.62992837,\n",
              "       14.92069889,  5.519965  ,  5.04042231,  8.97936618,  7.78663198,\n",
              "        6.77316029,  4.65250724,  7.69663135, 10.78180684,  7.46179705,\n",
              "        8.61973303, 17.84690983,  6.78202153,  9.29397009,  6.37483542,\n",
              "       10.46837441,  3.33579298,  8.26301677,  7.65124016,  9.67839124,\n",
              "        5.3725123 , 13.12458345,  6.63371078,  4.77204542,  6.88825067,\n",
              "       11.11133912,  7.00879323,  0.83808583,  4.26043045,  7.84872008,\n",
              "        3.2794024 ,  7.83794089,  6.83561777,  4.95231473, 10.60180558,\n",
              "        6.84249359,  4.54502796,  5.37938812,  6.5724917 ,  8.65490063,\n",
              "        8.14626513,  7.98187369, 17.4869073 , 17.57690793,  7.61308911,\n",
              "       13.45759342,  1.90629757,  6.93218156,  7.93489557,  6.82879197,\n",
              "        6.08353845,  8.26617467, 11.79736897,  9.75500291,  7.93872071,\n",
              "        1.39627625,  8.17135488,  9.81122973,  1.81629693,  6.08869222])"
            ]
          },
          "execution_count": 25,
          "metadata": {},
          "output_type": "execute_result"
        }
      ],
      "source": [
        "y_pred= clf.predict(X_test)\n",
        "y_pred"
      ]
    },
    {
      "cell_type": "code",
      "execution_count": null,
      "metadata": {
        "colab": {
          "background_save": true
        },
        "id": "je3LfAwotl5s",
        "outputId": "4b25949c-b408-4aaf-9010-1a2d1ff6bdb3"
      },
      "outputs": [
        {
          "data": {
            "text/plain": [
              "-0.0055293219119052495"
            ]
          },
          "execution_count": 26,
          "metadata": {},
          "output_type": "execute_result"
        }
      ],
      "source": [
        "from sklearn.metrics import r2_score\n",
        "r2_score(y_test, y_pred)\n"
      ]
    }
  ],
  "metadata": {
    "colab": {
      "collapsed_sections": [
        "cxNdzyk5RWxY"
      ],
      "provenance": []
    },
    "kernelspec": {
      "display_name": "Python 3",
      "name": "python3"
    },
    "language_info": {
      "name": "python"
    }
  },
  "nbformat": 4,
  "nbformat_minor": 0
}